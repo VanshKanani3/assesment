{
 "cells": [
  {
   "cell_type": "code",
   "execution_count": null,
   "id": "c85c349b",
   "metadata": {},
   "outputs": [],
   "source": [
    "print(\"1.manager\")\n",
    "print(\"2.customer\")\n",
    "\n",
    "\n",
    "a=int(input(\"Enter Your Role1:\"))\n",
    "\n",
    "if a==1:\n",
    " print(\"Fruit Market Manager\")\n",
    "\n",
    "print(\"1. Add fruit stock\")\n",
    "print(\"2. View Fruit stock\") \n",
    "print(\"3. Update fruit stock\")\n",
    "\n",
    "b=int(input(\"Enter your choice:\"))\n",
    "if b==1:\n",
    "    print(\"Add fruit stock\")\n",
    "    c=input(\"Enter fruit name:\")\n",
    "    d=int(input(\"Enter Fruit qty:\"))\n",
    "    e=float(input(\"Enter price:\")) \n",
    "f=input(\"do you want to perform more operations, Press 1:\")\n",
    "if f==1:\n",
    " print(\"Fruit Market Manager\")\n",
    "print(\"1. Add fruit stock\")\n",
    "print(\"2. View Fruit stock\") \n",
    "print(\"3. Update fruit stock\")\n"
   ]
  },
  {
   "cell_type": "code",
   "execution_count": null,
   "id": "1afabf72",
   "metadata": {},
   "outputs": [],
   "source": []
  },
  {
   "cell_type": "code",
   "execution_count": null,
   "id": "f19c5cc0",
   "metadata": {},
   "outputs": [],
   "source": []
  }
 ],
 "metadata": {
  "kernelspec": {
   "display_name": "Python 3 (ipykernel)",
   "language": "python",
   "name": "python3"
  },
  "language_info": {
   "codemirror_mode": {
    "name": "ipython",
    "version": 3
   },
   "file_extension": ".py",
   "mimetype": "text/x-python",
   "name": "python",
   "nbconvert_exporter": "python",
   "pygments_lexer": "ipython3",
   "version": "3.11.4"
  }
 },
 "nbformat": 4,
 "nbformat_minor": 5
}
